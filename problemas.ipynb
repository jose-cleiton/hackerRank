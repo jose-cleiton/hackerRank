{
 "cells": [
  {
   "cell_type": "markdown",
   "metadata": {},
   "source": [
    "### Dado um número inteiro, , execute as seguintes ações condicionais:\n",
    "\n",
    "Se for ímpar, imprima Weird\n",
    "Se for par e estiver no intervalo entre 2 e 5 , imprima \"Not Weird\"\n",
    "Se for par e estiver no intervalo entre 6 e 20 , imprima \"Weird\"\n",
    "Se for par e maior que 20, imprima Not Weird"
   ]
  },
  {
   "cell_type": "code",
   "execution_count": 39,
   "metadata": {},
   "outputs": [
    {
     "name": "stdout",
     "output_type": "stream",
     "text": [
      "Weird\n"
     ]
    }
   ],
   "source": [
    "#!/bin/python3\n",
    "\n",
    "import math\n",
    "import os\n",
    "import random\n",
    "import re\n",
    "import sys\n",
    "\n",
    "def checks(n):\n",
    "    if (n % 2) == 0:\n",
    "        if n >= 2 and n < 6:\n",
    "            print('Not Weird')\n",
    "        if n >= 6 and n <= 20:\n",
    "            print('Weird')    \n",
    "        if n > 20:\n",
    "            print('Not Weird')  \n",
    "    else:\n",
    "        print('Weird')        \n",
    "            \n",
    "\n",
    "\n",
    "if __name__ == '__main__':\n",
    "    n = int(input().strip())\n",
    "    checks(n)\n"
   ]
  },
  {
   "cell_type": "markdown",
   "metadata": {},
   "source": [
    "## Testes"
   ]
  },
  {
   "cell_type": "code",
   "execution_count": 43,
   "metadata": {},
   "outputs": [],
   "source": [
    "from unittest import TestCase, main\n",
    "from checks import checks\n",
    "from contextlib import redirect_stdout\n",
    "import io\n",
    "\n",
    "\n",
    "class Checks(TestCase):\n",
    "    def test_its_pair(self):\n",
    "        checks(2)\n",
    "\n",
    "    def test_when_odd_returns_weird(self):\n",
    "        input_value = 3\n",
    "        expected_value = \"Weird\\n\"\n",
    "        f = io.StringIO()\n",
    "        with redirect_stdout(f):\n",
    "            checks(input_value)\n",
    "        saida = f.getvalue()\n",
    "\n",
    "        self.assertEqual(saida, expected_value)\n",
    "\n",
    "    def test_when_even_and_between_2_and_5_returns_not_weird(self):\n",
    "        input_value = 4\n",
    "        expected_value = \"Not Weird\\n\"\n",
    "\n",
    "        f = io.StringIO()\n",
    "        with redirect_stdout(f):\n",
    "            checks(input_value)\n",
    "        saida = f.getvalue()\n",
    "\n",
    "        self.assertEqual(saida, expected_value)\n",
    "\n",
    "    def test_when_even_e_between_2_and_5_returns_weird(self):\n",
    "        input_value = 6\n",
    "        expected_value = \"Weird\\n\"\n",
    "        f = io.StringIO()\n",
    "        with redirect_stdout(f):\n",
    "            checks(input_value)\n",
    "        saida = f.getvalue()\n",
    "\n",
    "        self.assertEqual(saida, expected_value)\n",
    "\n",
    "from unittest import TestCase, main\n",
    "from checks import checks\n",
    "from contextlib import redirect_stdout\n",
    "import io\n",
    "\n",
    "\n",
    "class Checks(TestCase):\n",
    "    def test_its_pair(self):\n",
    "        checks(2)\n",
    "\n",
    "    def test_when_odd_returns_weird(self):\n",
    "        input_value = 3\n",
    "        expected_value = \"Weird\\n\"\n",
    "        f = io.StringIO()\n",
    "        with redirect_stdout(f):\n",
    "            checks(input_value)\n",
    "        saida = f.getvalue()\n",
    "\n",
    "        self.assertEqual(saida, expected_value)\n",
    "\n",
    "    def test_when_even_and_between_2_and_5_returns_not_weird(self):\n",
    "        input_value = 4\n",
    "        expected_value = \"Not Weird\\n\"\n",
    "\n",
    "        f = io.StringIO()\n",
    "        with redirect_stdout(f):\n",
    "            checks(input_value)\n",
    "        saida = f.getvalue()\n",
    "\n",
    "        self.assertEqual(saida, expected_value)\n",
    "\n",
    "    def test_when_even_e_between_2_and_5_returns_weird(self):\n",
    "        input_value = 6\n",
    "        expected_value = \"Weird\\n\"\n",
    "        f = io.StringIO()\n",
    "        with redirect_stdout(f):\n",
    "            checks(input_value)\n",
    "        saida = f.getvalue()\n",
    "\n",
    "        self.assertEqual(saida, expected_value)\n",
    "\n",
    "\n",
    "main()\n"
   ]
  }
 ],
 "metadata": {
  "kernelspec": {
   "display_name": "Python 3.10.6 64-bit",
   "language": "python",
   "name": "python3"
  },
  "language_info": {
   "codemirror_mode": {
    "name": "ipython",
    "version": 3
   },
   "file_extension": ".py",
   "mimetype": "text/x-python",
   "name": "python",
   "nbconvert_exporter": "python",
   "pygments_lexer": "ipython3",
   "version": "3.10.6"
  },
  "orig_nbformat": 4,
  "vscode": {
   "interpreter": {
    "hash": "916dbcbb3f70747c44a77c7bcd40155683ae19c65e1c03b4aa3499c5328201f1"
   }
  }
 },
 "nbformat": 4,
 "nbformat_minor": 2
}
